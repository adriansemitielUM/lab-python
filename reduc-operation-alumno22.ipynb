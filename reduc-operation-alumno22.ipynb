{
 "cells": [
  {
   "cell_type": "markdown",
   "id": "f942d288-be01-42cd-9b84-83529c6769be",
   "metadata": {},
   "source": [
    "### Reduction operation: the sum of the numbers in the range [0, a)"
   ]
  },
  {
   "cell_type": "code",
   "execution_count": 6,
   "id": "496946fa-2a28-4c1d-8a6a-2ee0b8fd8ced",
   "metadata": {},
   "outputs": [
    {
     "name": "stdout",
     "output_type": "stream",
     "text": [
      "Time taken by reduction operation: 0.28615713119506836 seconds\n",
      "269 ms ± 210 µs per loop (mean ± std. dev. of 2 runs, 1 loop each)\n",
      "\n",
      " \t Computing the sum of numbers in the range [0, value): 499999500000\n",
      "\n"
     ]
    }
   ],
   "source": [
    "import time\n",
    "\n",
    "def reduc_operation(a):\n",
    "    \"\"\"Compute the sum of the numbers in the range [0, a).\"\"\"\n",
    "    x = 0\n",
    "    for i in range(a):\n",
    "        x += i\n",
    "    return x\n",
    "\n",
    "# Secuencial\n",
    "\n",
    "value = 1000000\n",
    "\n",
    "initialTime = time.time()\n",
    "suma = reduc_operation(value)\n",
    "finalTime = time.time()\n",
    "\n",
    "print(\"Time taken by reduction operation:\", (finalTime - initialTime), \"seconds\")\n",
    "\n",
    "# Utilizando las operaciones mágicas de ipython\n",
    "%timeit -r 2 reduc_operation(value)\n",
    "\n",
    "print(f\"\\n \\t Computing the sum of numbers in the range [0, value): {suma}\\n\")"
   ]
  },
  {
   "cell_type": "markdown",
   "id": "62f0ff5f-9e6a-4da7-85e4-d8e09cd34024",
   "metadata": {},
   "source": [
    "### 3.2. Python HPC: lists y Numpy y Numba con Jupyter notebook"
   ]
  },
  {
   "cell_type": "code",
   "execution_count": 15,
   "id": "07e06e3d-59ca-44bc-879b-b6fffcd87eea",
   "metadata": {},
   "outputs": [
    {
     "name": "stdout",
     "output_type": "stream",
     "text": [
      "Resultado de la suma: 499999500000\n",
      "\n",
      "Tiempo con time usando un bucle for: 0.206934 segundos\n",
      "Tiempo con %timeit usando un bucle for:\n",
      "205 ms ± 5.22 ms per loop (mean ± std. dev. of 7 runs, 1 loop each)\n",
      "\n",
      "Tiempo con time usando la función sum: 0.0314982 segundos\n",
      "Tiempo con %timeit usando la función sum:\n",
      "30.1 ms ± 496 µs per loop (mean ± std. dev. of 7 runs, 10 loops each)\n"
     ]
    }
   ],
   "source": [
    "# A) Crear una lista de Python con la función range que contenga 10^6 elementos y calcular el tiempo que tarda en sumar todos los elementos de dos maneras diferentes:\n",
    "lista = list(range(1_000_000)) # Creamos la lsita\n",
    "import time # Importamos la librería time\n",
    "\n",
    "# Usando un bucle for:\n",
    "\n",
    "# Definimos la función para sumar\n",
    "def sumar(data):\n",
    "    total = 0\n",
    "    for num in lista:\n",
    "        total += num\n",
    "    return total\n",
    "\n",
    "# Medimos el tiempo con time\n",
    "start = time.time()\n",
    "total = sumar(lista)\n",
    "end = time.time()\n",
    "print(f\"Resultado de la suma: {total}\")\n",
    "print(f\"\\nTiempo con time usando un bucle for: {end - start:.6f} segundos\")\n",
    "\n",
    "# Medimos el tiempo con %timeit\n",
    "print(\"Tiempo con %timeit usando un bucle for:\")\n",
    "%timeit sumar(lista)\n",
    "\n",
    "# Usando la función sum:\n",
    "\n",
    "start = time.time()\n",
    "total = sum(lista)\n",
    "end = time.time()\n",
    "print(f\"\\nTiempo con time usando la función sum: {end - start:.6} segundos\")\n",
    "print(\"Tiempo con %timeit usando la función sum:\")\n",
    "%timeit sum(lista)"
   ]
  },
  {
   "cell_type": "code",
   "execution_count": 16,
   "id": "bec130d5-e797-43d4-8207-2c890f9590b4",
   "metadata": {},
   "outputs": [
    {
     "name": "stdout",
     "output_type": "stream",
     "text": [
      "Resultado de la suma: 499999500000\n",
      "\n",
      "Tiempo con time usando un bucle for: 0.220886 segundos\n",
      "Tiempo con %timeit usando un bucle for:\n",
      "206 ms ± 3.24 ms per loop (mean ± std. dev. of 7 runs, 1 loop each)\n",
      "\n",
      "Tiempo usando np.sum: 0.002308 segundos\n",
      "Tiempo con %timeit usando np.sum:\n",
      "1.38 ms ± 7.75 µs per loop (mean ± std. dev. of 7 runs, 1,000 loops each)\n"
     ]
    }
   ],
   "source": [
    "# B) Pasar la lista creada a un array de Numpy. Calcular el tiempo en sumar todos los elementos del array:\n",
    "import numpy as np\n",
    "import time\n",
    "\n",
    "# Creamos el array\n",
    "array = np.array(lista)\n",
    "\n",
    "# Usando un bucle for:\n",
    "\n",
    "# Medimos el tiempo con time\n",
    "start = time.time()\n",
    "total = sumar(array)\n",
    "end = time.time()\n",
    "\n",
    "print(f\"Resultado de la suma: {total}\")\n",
    "print(f\"\\nTiempo con time usando un bucle for: {end - start:.6f} segundos\")\n",
    "\n",
    "# Medimos el tiempo con %timeit\n",
    "print(\"Tiempo con %timeit usando un bucle for:\")\n",
    "%timeit sumar(array)\n",
    "\n",
    "# Usando la función sum del paquete Numpy.\n",
    "start = time.time()\n",
    "total = np.sum(array)\n",
    "end = time.time()\n",
    "print(f\"\\nTiempo usando np.sum: {end - start:.6f} segundos\")\n",
    "print(\"Tiempo con %timeit usando np.sum:\")\n",
    "%timeit np.sum(array)"
   ]
  },
  {
   "cell_type": "markdown",
   "id": "afc65c54-b1e0-441b-902a-42bc02ec8fd0",
   "metadata": {},
   "source": [
    "C) Explicación de los resultados:\n",
    "\n",
    "El código original utiliza un bucle for para calcular la suma de un rango de números, obteniendo un tiempo de ejecución de aproximadamente 0.286 segundos con el método time. Al medir con %timeit, el tiempo promedio es de 269 ms ± 210 µs por loop, lo cual refleja la sobrecarga significativa del intérprete de Python al manejar iteraciones grandes. Este método es funcional, pero relativamente lento al operar con grandes cantidades de datos.\n",
    "\n",
    "Cuando utilizamos listas, observamos una clara diferencia entre dos métodos: el bucle for, que tiene un tiempo de ejecución de aproximadamente 0.207 segundos con time y un promedio de 205 ms ± 5.22 ms por loop con %timeit, es más lento debido a la estructura dinámica de las listas. Por otro lado, la función sum reduce el tiempo de ejecución significativamente, a aproximadamente 0.031 segundos con time y 30.1 ms ± 496 µs por loop con %timeit. Esto ocurre porque sum utiliza optimizaciones internas que mejoran su eficiencia.\n",
    "\n",
    "Al utilizar arrays de NumPy, el tiempo de ejecución varía notablemente según el método empleado. El bucle for, con un tiempo de 0.221 segundos con time y un promedio de 206 ms ± 3.24 ms por loop con %timeit, es el más lento, ya que no aprovecha las optimizaciones de NumPy y sigue dependiendo del intérprete de Python. Sin embargo, al usar la función optimizada np.sum, el tiempo de ejecución se reduce drásticamente a 0.002 segundos con time y 1.38 ms ± 7.75 µs por loop con %timeit. Esto se debe a que NumPy implementa operaciones vectorizadas en C, eliminando la sobrecarga de Python.\n",
    "\n",
    "En conclusión, el código original y los métodos basados en bucles son intuitivos, pero significativamente más lentos para manejar grandes cantidades de datos. Las funciones optimizadas como sum y, especialmente, np.sum, son mucho más rápidas debido a su capacidad para aprovechar optimizaciones internas y operaciones vectorizadas."
   ]
  }
 ],
 "metadata": {
  "kernelspec": {
   "display_name": "Python 3 (ipykernel)",
   "language": "python",
   "name": "python3"
  },
  "language_info": {
   "codemirror_mode": {
    "name": "ipython",
    "version": 3
   },
   "file_extension": ".py",
   "mimetype": "text/x-python",
   "name": "python",
   "nbconvert_exporter": "python",
   "pygments_lexer": "ipython3",
   "version": "3.10.9"
  }
 },
 "nbformat": 4,
 "nbformat_minor": 5
}
