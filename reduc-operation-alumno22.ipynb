{
 "cells": [
  {
   "cell_type": "markdown",
   "id": "f942d288-be01-42cd-9b84-83529c6769be",
   "metadata": {},
   "source": [
    "### Reduction operation: the sum of the numbers in the range [0, a)"
   ]
  },
  {
   "cell_type": "code",
   "execution_count": 6,
   "id": "496946fa-2a28-4c1d-8a6a-2ee0b8fd8ced",
   "metadata": {},
   "outputs": [
    {
     "name": "stdout",
     "output_type": "stream",
     "text": [
      "Time taken by reduction operation: 0.28615713119506836 seconds\n",
      "269 ms ± 210 µs per loop (mean ± std. dev. of 2 runs, 1 loop each)\n",
      "\n",
      " \t Computing the sum of numbers in the range [0, value): 499999500000\n",
      "\n"
     ]
    }
   ],
   "source": [
    "import time\n",
    "\n",
    "def reduc_operation(a):\n",
    "    \"\"\"Compute the sum of the numbers in the range [0, a).\"\"\"\n",
    "    x = 0\n",
    "    for i in range(a):\n",
    "        x += i\n",
    "    return x\n",
    "\n",
    "# Secuencial\n",
    "\n",
    "value = 1000000\n",
    "\n",
    "initialTime = time.time()\n",
    "suma = reduc_operation(value)\n",
    "finalTime = time.time()\n",
    "\n",
    "print(\"Time taken by reduction operation:\", (finalTime - initialTime), \"seconds\")\n",
    "\n",
    "# Utilizando las operaciones mágicas de ipython\n",
    "%timeit -r 2 reduc_operation(value)\n",
    "\n",
    "print(f\"\\n \\t Computing the sum of numbers in the range [0, value): {suma}\\n\")"
   ]
  },
  {
   "cell_type": "code",
   "execution_count": 13,
   "id": "07e06e3d-59ca-44bc-879b-b6fffcd87eea",
   "metadata": {},
   "outputs": [
    {
     "name": "stdout",
     "output_type": "stream",
     "text": [
      "Suma usando bucle for: 499999500000\n",
      "Tiempo usando bucle for: 0.441445 segundos\n",
      "Suma usando la función sum: 499999500000\n",
      "Tiempo usando la función sum: 0.0319831 segundos\n",
      "\n",
      "\n",
      "Suma usando bucle for con array: 499999500000\n",
      "Tiempo usando bucle for con array: 0.912314 segundos\n",
      "Suma usando np.sum: 499999500000\n",
      "Tiempo usando np.sum: 0.001886 segundos\n"
     ]
    }
   ],
   "source": [
    "# 3.2. Python HPC: lists y Numpy y Numba con Jupyter notebook\n",
    "\n",
    "# A) Crear una lista de Python con la función range que contenga 10^6 elementos y calcular el tiempo que tarda en sumar todos los elementos de dos maneras diferentes:\n",
    "lista = list(range(1_000_000))\n",
    "\n",
    "    # a) Usando un bucle for\n",
    "import time\n",
    "total = 0\n",
    "start = time.time()\n",
    "for num in lista:\n",
    "    total += num\n",
    "end = time.time()\n",
    "\n",
    "print(f\"Suma usando bucle for: {total}\")\n",
    "print(f\"Tiempo usando bucle for: {end - start:.6} segundos\")\n",
    "\n",
    "    # b) Usando la función sum\n",
    "start = time.time()\n",
    "total = sum(lista)\n",
    "end = time.time()\n",
    "\n",
    "print(f\"Suma usando la función sum: {total}\")\n",
    "print(f\"Tiempo usando la función sum: {end - start:.6} segundos\")\n"
   ]
  },
  {
   "cell_type": "code",
   "execution_count": 14,
   "id": "bec130d5-e797-43d4-8207-2c890f9590b4",
   "metadata": {},
   "outputs": [
    {
     "name": "stdout",
     "output_type": "stream",
     "text": [
      "Suma usando bucle for con array: 499999500000\n",
      "Tiempo usando bucle for con array: 0.945469 segundos\n",
      "Suma usando np.sum: 499999500000\n",
      "Tiempo usando np.sum: 0.003914 segundos\n"
     ]
    }
   ],
   "source": [
    "# B) Pasar la lista creada a un array de Numpy. Calcular el tiempo en sumar todos los elementos del array:\n",
    "import numpy as np\n",
    "array = np.array(lista)\n",
    "\n",
    "    # a) Usando un bucle for\n",
    "#import time (lo comentamos porque ya lo tenemos arriba)\n",
    "total = 0\n",
    "start = time.time()\n",
    "for num in array:\n",
    "    total += num\n",
    "end = time.time()\n",
    "\n",
    "print(f\"Suma usando bucle for con array: {total}\")\n",
    "print(f\"Tiempo usando bucle for con array: {end - start:.6f} segundos\")\n",
    "\n",
    "    # b) Usando la función sum del paquete Numpy.\n",
    "start = time.time()\n",
    "total = np.sum(array)\n",
    "end = time.time()\n",
    "\n",
    "print(f\"Suma usando np.sum: {total}\")\n",
    "print(f\"Tiempo usando np.sum: {end - start:.6f} segundos\")"
   ]
  },
  {
   "cell_type": "markdown",
   "id": "afc65c54-b1e0-441b-902a-42bc02ec8fd0",
   "metadata": {},
   "source": [
    "C) Explicación de los resultados:\n",
    "\n",
    "El código original utiliza un bucle for par calcular la suma del rango de números, y tiene un tiempo de ejecución de aproximadamente 0.29 segundos, lo cual es relativamente lento porque a que cada iteración del bucle debe ser interpretada por Python. Esto lo que hace es introducir sobrecarga significativa, especialmente si estamos manejando grandes cantidades de datos.\n",
    "\n",
    "Cuando trabajamos con lsitas, tenemos que diferenciar dos métodos distintos: el bucle for es similar al del código original pero es ligeramente más lento (aprox. 0.44 segundos), por la estructura dinámica de las listas. Por otro lado, la función sum aprovecha algunas optimizaciones y reduce drásticamente el tiempo de ejecución (aprox. 0.03 segundos), lo que hace que sea una opción más eficiente.\n",
    "\n",
    "Por último, utilizamos los arrays de NumPy. Aquí se observa que el tiempo de ejecución varía considerablemente según el método que usemos: el bucle for es el más lento (aprox. 0.91 segundos), lo cual se debe a que no aprovecha las optimizaciones de NumPy y depende del intérprete de Python. No obstante, al usar la función np.sum, el tiempo se reduce a solamente 0.004 segundos aprox., como consecuencia de que NumPy lleva implementadas operaciones vectorizadas en C.\n",
    "\n",
    "En conclusión, aunque el código original y los métodos basados en bucles pueden parecernos bastante intuitivos, son bastante ineficientes a la hora de manejar grandes cantidades de datos. Las funciones optimizadas como sum y, en especial, np.sum, con mucho más rápidas."
   ]
  }
 ],
 "metadata": {
  "kernelspec": {
   "display_name": "Python 3 (ipykernel)",
   "language": "python",
   "name": "python3"
  },
  "language_info": {
   "codemirror_mode": {
    "name": "ipython",
    "version": 3
   },
   "file_extension": ".py",
   "mimetype": "text/x-python",
   "name": "python",
   "nbconvert_exporter": "python",
   "pygments_lexer": "ipython3",
   "version": "3.10.9"
  }
 },
 "nbformat": 4,
 "nbformat_minor": 5
}
